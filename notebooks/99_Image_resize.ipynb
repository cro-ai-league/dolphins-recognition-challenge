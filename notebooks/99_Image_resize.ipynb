{
 "cells": [
  {
   "cell_type": "code",
   "execution_count": null,
   "metadata": {},
   "outputs": [],
   "source": [
    "# default_exp image_resize"
   ]
  },
  {
   "cell_type": "markdown",
   "metadata": {},
   "source": [
    "# Image resize\n",
    "> Resizing dataset. This functions are not required for competitors but was developed to prepare the dataset for the competition."
   ]
  },
  {
   "cell_type": "code",
   "execution_count": null,
   "metadata": {},
   "outputs": [],
   "source": [
    "# export\n",
    "\n",
    "from pathlib import Path\n",
    "from PIL import Image\n",
    "from typing import Tuple, Optional, Dict, List, Union, Callable, Iterable"
   ]
  },
  {
   "cell_type": "code",
   "execution_count": null,
   "metadata": {},
   "outputs": [],
   "source": [
    "# exporti\n",
    "\n",
    "from fastcore.script import *\n",
    "\n",
    "#import dolphins\n",
    "\n",
    "import numpy as np\n",
    "from shutil import rmtree\n",
    "\n",
    "from dolphins_recognition_challenge.helpers import *\n",
    "from tempfile import TemporaryDirectory"
   ]
  },
  {
   "cell_type": "code",
   "execution_count": null,
   "metadata": {},
   "outputs": [],
   "source": [
    "# exporti\n",
    "\n",
    "\n",
    "def _get_pallete(img_P: Image.Image) -> List[List[int]]:\n",
    "    \"\"\"Returns a list of colors from the input image\"\"\"\n",
    "    palette = np.array(img_P.getpalette()).reshape((-1, 3)).tolist()\n",
    "    palette = palette[: len(np.unique(palette, axis=0))]\n",
    "\n",
    "    return palette"
   ]
  },
  {
   "cell_type": "code",
   "execution_count": null,
   "metadata": {},
   "outputs": [],
   "source": [
    "# skip\n",
    "\n",
    "\n",
    "fin_body_path = Path(\"../data/testing/fin_body_5/\")\n",
    "\n",
    "fin_body_jpeg_path = sorted(fin_body_path.glob(\"**/JPEGImages/*.jpg\"))\n",
    "fin_body_segmentation_classes_path = sorted(\n",
    "    fin_body_path.glob(\"**/SegmentationClass/*.png\")\n",
    ")\n",
    "fin_body_segmentation_objects_path = sorted(\n",
    "    fin_body_path.glob(\"**/SegmentationObject/*.png\")\n",
    ")\n",
    "\n",
    "assert fin_body_path.exists()\n",
    "assert len(fin_body_jpeg_path) == 5\n",
    "assert len(fin_body_segmentation_classes_path) == 5\n",
    "assert len(fin_body_segmentation_objects_path) == 5"
   ]
  },
  {
   "cell_type": "code",
   "execution_count": null,
   "metadata": {},
   "outputs": [],
   "source": [
    "# export\n",
    "\n",
    "\n",
    "def display_image(img: Union[Image.Image, Iterable[Image.Image]], x_size=240):\n",
    "    \"\"\"Displays an image or images with smaller dimension equal to x_size,\n",
    "    and the other dimension is calculated\"\"\"\n",
    "\n",
    "    if isinstance(img, Image.Image):\n",
    "        y_size = int(img.size[1] / img.size[0] * x_size)\n",
    "        display(img.resize((x_size, y_size)))\n",
    "    else:\n",
    "        for i in img:\n",
    "            display_image(i, x_size=x_size)"
   ]
  },
  {
   "cell_type": "code",
   "execution_count": null,
   "metadata": {},
   "outputs": [
    {
     "data": {
      "image/png": "[encoded data removed]",
      "text/plain": [
       "<PIL.Image.Image image mode=RGB size=240x114 at 0x7FDD6DDAAC40>"
      ]
     },
     "metadata": {},
     "output_type": "display_data"
    },
    {
     "data": {
      "image/png": "[encoded data removed]",
      "text/plain": [
       "<PIL.Image.Image image mode=RGB size=240x114 at 0x7FDD6DDAAA60>"
      ]
     },
     "metadata": {},
     "output_type": "display_data"
    },
    {
     "data": {
      "image/png": "[encoded data removed]",
      "text/plain": [
       "<PIL.Image.Image image mode=RGB size=240x160 at 0x7FDDA45D7B50>"
      ]
     },
     "metadata": {},
     "output_type": "display_data"
    },
    {
     "data": {
      "image/png": "[encoded data removed]",
      "text/plain": [
       "<PIL.Image.Image image mode=RGB size=240x160 at 0x7FDD6DD23EB0>"
      ]
     },
     "metadata": {},
     "output_type": "display_data"
    },
    {
     "data": {
      "image/png": "[encoded data removed]",
      "text/plain": [
       "<PIL.Image.Image image mode=RGB size=240x160 at 0x7FDD6DDAAA30>"
      ]
     },
     "metadata": {},
     "output_type": "display_data"
    },
    {
     "data": {
      "image/png": "[encoded data removed]",
      "text/plain": [
       "<PIL.Image.Image image mode=RGB size=240x160 at 0x7FDD6DDAAA60>"
      ]
     },
     "metadata": {},
     "output_type": "display_data"
    }
   ],
   "source": [
    "# skip\n",
    "\n",
    "imgs = [\n",
    "    Image.open(fin_body_segmentation_classes_path[i])\n",
    "    for i in range(len(fin_body_segmentation_classes_path))\n",
    "]\n",
    "\n",
    "display_image(imgs[0])\n",
    "display_image(imgs)"
   ]
  },
  {
   "cell_type": "code",
   "execution_count": null,
   "metadata": {},
   "outputs": [
    {
     "data": {
      "text/plain": [
       "[[250, 250, 55], [250, 50, 83], [0, 0, 0]]"
      ]
     },
     "execution_count": null,
     "metadata": {},
     "output_type": "execute_result"
    }
   ],
   "source": [
    "# skip\n",
    "\n",
    "class_test = Image.open(fin_body_segmentation_classes_path[0])\n",
    "\n",
    "class_test = class_test.convert(\n",
    "    \"P\", palette=Image.ADAPTIVE, colors=len(class_test.getcolors())\n",
    ")\n",
    "\n",
    "palette = _get_pallete(class_test)\n",
    "assert len(palette) == 3\n",
    "palette"
   ]
  },
  {
   "cell_type": "code",
   "execution_count": null,
   "metadata": {},
   "outputs": [
    {
     "data": {
      "text/plain": [
       "[[128, 128, 0], [0, 128, 0], [128, 0, 0], [0, 0, 128], [0, 0, 0]]"
      ]
     },
     "execution_count": null,
     "metadata": {},
     "output_type": "execute_result"
    }
   ],
   "source": [
    "# skip\n",
    "\n",
    "instance_test = Image.open(fin_body_segmentation_objects_path[0])\n",
    "\n",
    "instance_test = instance_test.convert(\n",
    "    \"P\", palette=Image.ADAPTIVE, colors=len(instance_test.getcolors())\n",
    ")\n",
    "\n",
    "palette_instance = _get_pallete(instance_test)\n",
    "assert len(palette_instance) >= len(palette)\n",
    "palette_instance"
   ]
  },
  {
   "cell_type": "code",
   "execution_count": null,
   "metadata": {},
   "outputs": [],
   "source": [
    "# exporti\n",
    "\n",
    "\n",
    "def _separate_img(\n",
    "    img: Image.Image,  # png image\n",
    "    palette: List[List[int]],  # list of RGB colors\n",
    ") -> List[Image.Image]:\n",
    "    \"\"\"Creates a list of images from the input image and color palette.\n",
    "    Each image has one class and background\"\"\"\n",
    "\n",
    "    img_array = np.array(img)\n",
    "    img_separated = [\n",
    "        Image.fromarray(img_array == i, mode=\"P\") for i, color in enumerate(palette)\n",
    "    ]\n",
    "\n",
    "    black = [0, 0, 0]\n",
    "    for color, im in zip(palette, img_separated):\n",
    "        im.putpalette(black + color)\n",
    "\n",
    "    return img_separated"
   ]
  },
  {
   "cell_type": "code",
   "execution_count": null,
   "metadata": {},
   "outputs": [
    {
     "data": {
      "image/png": "[encoded data removed]",
      "text/plain": [
       "<PIL.Image.Image image mode=P size=240x114 at 0x7FDD6DD2E700>"
      ]
     },
     "metadata": {},
     "output_type": "display_data"
    },
    {
     "data": {
      "image/png": "[encoded data removed]",
      "text/plain": [
       "<PIL.Image.Image image mode=P size=240x114 at 0x7FDD6DD2E700>"
      ]
     },
     "metadata": {},
     "output_type": "display_data"
    },
    {
     "data": {
      "image/png": "[encoded data removed]",
      "text/plain": [
       "<PIL.Image.Image image mode=P size=240x114 at 0x7FDD6DD2E700>"
      ]
     },
     "metadata": {},
     "output_type": "display_data"
    },
    {
     "data": {
      "image/png": "[encoded data removed]",
      "text/plain": [
       "<PIL.Image.Image image mode=P size=240x114 at 0x7FDD6DD2E700>"
      ]
     },
     "metadata": {},
     "output_type": "display_data"
    },
    {
     "data": {
      "image/png": "[encoded data removed]",
      "text/plain": [
       "<PIL.Image.Image image mode=P size=240x114 at 0x7FDD6DD2E700>"
      ]
     },
     "metadata": {},
     "output_type": "display_data"
    }
   ],
   "source": [
    "# skip\n",
    "\n",
    "display_image(_separate_img(instance_test, palette_instance))"
   ]
  },
  {
   "cell_type": "code",
   "execution_count": null,
   "metadata": {},
   "outputs": [],
   "source": [
    "# exporti\n",
    "\n",
    "\n",
    "def separate_masks(img: Image.Image) -> List[Image.Image]:\n",
    "    \"\"\"Converts RGB image to P. Creates a list of images from the input image.\n",
    "    Each image has one class and background\"\"\"\n",
    "\n",
    "    img_P = img.convert(\"P\", palette=Image.ADAPTIVE, colors=len(img.getcolors()))\n",
    "\n",
    "    palette = _get_pallete(img_P)\n",
    "\n",
    "    return _separate_img(img_P, palette)"
   ]
  },
  {
   "cell_type": "code",
   "execution_count": null,
   "metadata": {},
   "outputs": [
    {
     "data": {
      "image/png": "[encoded data removed]",
      "text/plain": [
       "<PIL.Image.Image image mode=P size=240x180 at 0x7FDD552707C0>"
      ]
     },
     "metadata": {},
     "output_type": "display_data"
    },
    {
     "data": {
      "image/png": "[encoded data removed]",
      "text/plain": [
       "<PIL.Image.Image image mode=P size=240x180 at 0x7FDD552707C0>"
      ]
     },
     "metadata": {},
     "output_type": "display_data"
    },
    {
     "data": {
      "image/png": "[encoded data removed]",
      "text/plain": [
       "<PIL.Image.Image image mode=P size=240x180 at 0x7FDD55270880>"
      ]
     },
     "metadata": {},
     "output_type": "display_data"
    },
    {
     "data": {
      "image/png": "[encoded data removed]",
      "text/plain": [
       "<PIL.Image.Image image mode=P size=240x180 at 0x7FDD6DD2E670>"
      ]
     },
     "metadata": {},
     "output_type": "display_data"
    },
    {
     "data": {
      "image/png": "[encoded data removed]",
      "text/plain": [
       "<PIL.Image.Image image mode=P size=240x180 at 0x7FDD6DD2E670>"
      ]
     },
     "metadata": {},
     "output_type": "display_data"
    }
   ],
   "source": [
    "# skip\n",
    "\n",
    "for i in separate_masks(instance_test):\n",
    "    display(i.resize((240, 180)))"
   ]
  },
  {
   "cell_type": "code",
   "execution_count": null,
   "metadata": {},
   "outputs": [],
   "source": [
    "# exporti\n",
    "\n",
    "\n",
    "def resize_composite_multi(img: Image.Image, image_size: Tuple) -> Image.Image:\n",
    "    \"\"\"Resizes images and merges images into one\"\"\"\n",
    "    separated_masks = separate_masks(img)\n",
    "    separated_masks_new = []\n",
    "    for im in separated_masks:\n",
    "        separated_masks_new.append(im.resize(image_size))\n",
    "\n",
    "    temp_img = Image.composite(\n",
    "        separated_masks_new[1].convert(\"RGB\"),\n",
    "        separated_masks_new[0].convert(\"RGB\"),\n",
    "        separated_masks_new[1].convert(\"L\"),\n",
    "    )\n",
    "    if len(separated_masks_new) <= 3:\n",
    "        return temp_img\n",
    "    else:\n",
    "        for k in range(2, len(separated_masks_new) - 1):\n",
    "            temp_img = Image.composite(\n",
    "                separated_masks_new[k].convert(\"RGB\"),\n",
    "                temp_img.convert(\"RGB\"),\n",
    "                separated_masks_new[k]\n",
    "                .convert(\"L\")\n",
    "                .point(lambda x: 0 if x == 0 else 255, \"1\"),\n",
    "            )\n",
    "        return temp_img"
   ]
  },
  {
   "cell_type": "code",
   "execution_count": null,
   "metadata": {},
   "outputs": [
    {
     "data": {
      "image/png": "[encoded data removed]",
      "text/plain": [
       "<PIL.Image.Image image mode=RGB size=500x500 at 0x7FDD55270C70>"
      ]
     },
     "execution_count": null,
     "metadata": {},
     "output_type": "execute_result"
    }
   ],
   "source": [
    "# skip\n",
    "\n",
    "resize_composite_multi(instance_test, (500, 500))"
   ]
  },
  {
   "cell_type": "code",
   "execution_count": null,
   "metadata": {},
   "outputs": [],
   "source": [
    "# exporti\n",
    "\n",
    "\n",
    "def calculate_image_size(img: Image.Image, smaller_size=1000) -> Tuple[int]:\n",
    "    \"\"\"Sets the smaller dimension of the image to the value of the variable smaller_size and reduces the larger dimension by the same amount\"\"\"\n",
    "    x, y = img.size\n",
    "\n",
    "    if min(x, y) == y:\n",
    "\n",
    "        x = int(x / (y / smaller_size))\n",
    "        y = smaller_size\n",
    "    else:\n",
    "        y = int(y / (x / smaller_size))\n",
    "        x = smaller_size\n",
    "\n",
    "    return (x, y)"
   ]
  },
  {
   "cell_type": "code",
   "execution_count": null,
   "metadata": {},
   "outputs": [
    {
     "name": "stdout",
     "output_type": "stream",
     "text": [
      "input shape: (2664, 1274)\n",
      "output shape (1045, 500)\n"
     ]
    }
   ],
   "source": [
    "# skip\n",
    "\n",
    "print(f\"input shape: {instance_test.size}\")\n",
    "assert instance_test.size == (2664, 1274)\n",
    "\n",
    "actual = calculate_image_size(instance_test, smaller_size=500)\n",
    "expected = (1045, 500)\n",
    "print(f\"output shape {actual}\")\n",
    "assert actual == expected"
   ]
  },
  {
   "cell_type": "code",
   "execution_count": null,
   "metadata": {},
   "outputs": [],
   "source": [
    "# exporti\n",
    "\n",
    "\n",
    "def file_suffix_in(f: Path, suffixes: List[str]) -> bool:\n",
    "    \"\"\"Checks if the path contains a suffix\"\"\"\n",
    "    return f.suffix[1:].lower() in [suffix.lower() for suffix in suffixes]"
   ]
  },
  {
   "cell_type": "code",
   "execution_count": null,
   "metadata": {},
   "outputs": [],
   "source": [
    "# skip\n",
    "\n",
    "assert file_suffix_in(Path(\"davor.JA\"), [\"ja\", \"ti\"])\n",
    "assert not file_suffix_in(Path(\"davor.JA\"), [\"ti\"])"
   ]
  },
  {
   "cell_type": "code",
   "execution_count": null,
   "metadata": {},
   "outputs": [],
   "source": [
    "#export\n",
    "\n",
    "\n",
    "def glob_suffixes(root_path: Path, suffixes: Union[List[str], str]) -> List[Path]:\n",
    "    \"\"\"Returns all suffixes located in the path and in the input variable suffixes\"\"\"\n",
    "    if isinstance(suffixes, str):\n",
    "        suffixes = [suffixes]\n",
    "    return sorted([f for f in root_path.glob(\"**/*\") if file_suffix_in(f, suffixes)])"
   ]
  },
  {
   "cell_type": "code",
   "execution_count": null,
   "metadata": {},
   "outputs": [],
   "source": [
    "# skip\n",
    "\n",
    "assert len(glob_suffixes(fin_body_path, [\"jpg\", \"jpeg\"])) == 5\n",
    "assert len(glob_suffixes(fin_body_path, \"png\")) == 10"
   ]
  },
  {
   "cell_type": "code",
   "execution_count": null,
   "metadata": {},
   "outputs": [],
   "source": [
    "#  exporti\n",
    "\n",
    "\n",
    "def get_files_from_path(src_path: Path) -> (Path, Path, Path):\n",
    "    \"\"\"Returns three lists of files from the input directory\"\"\"\n",
    "    src_images_path = Path(src_path / \"JPEGImages/\")\n",
    "    src_class_path = Path(src_path / \"SegmentationClass/\")\n",
    "    src_instance_path = Path(src_path / \"SegmentationObject/\")\n",
    "\n",
    "    ensure_exists(src_images_path)\n",
    "    ensure_exists(src_class_path)\n",
    "    ensure_exists(src_instance_path)\n",
    "\n",
    "    src_images = glob_suffixes(src_images_path, (\"jpg\", \"jpeg\"))\n",
    "    src_lbl_classes = glob_suffixes(src_class_path, \"png\")\n",
    "    src_lbl_instances = glob_suffixes(src_instance_path, \"png\")\n",
    "\n",
    "    return src_images, src_lbl_classes, src_lbl_instances"
   ]
  },
  {
   "cell_type": "code",
   "execution_count": null,
   "metadata": {},
   "outputs": [],
   "source": [
    "# skip\n",
    "\n",
    "src_images, src_lbl_classes, src_lbl_instances = get_files_from_path(fin_body_path)\n",
    "for p in [src_images, src_lbl_classes, src_lbl_instances]:\n",
    "    assert len(p) == 5\n",
    "    for f in p:\n",
    "        assert f.exists()\n",
    "        assert f.is_file()"
   ]
  },
  {
   "cell_type": "code",
   "execution_count": null,
   "metadata": {},
   "outputs": [],
   "source": [
    "# exporti\n",
    "\n",
    "\n",
    "def recreate_dst_dir(dst_path: Path) -> (Path, Path, Path):\n",
    "    \"\"\"Deletes and recreates the directory and returns 3 dst paths\"\"\"\n",
    "    dst_images_path = Path(dst_path / \"JPEGImages\")\n",
    "    dst_class_path = Path(dst_path / \"SegmentationClass\")\n",
    "    dst_instance_path = Path(dst_path / \"SegmentationObject\")\n",
    "\n",
    "    rmtree(dst_images_path, ignore_errors=True)\n",
    "    rmtree(dst_class_path, ignore_errors=True)\n",
    "    rmtree(dst_instance_path, ignore_errors=True)\n",
    "\n",
    "    dst_images_path.mkdir(parents=True, exist_ok=True)\n",
    "    dst_class_path.mkdir(parents=True, exist_ok=True)\n",
    "    dst_instance_path.mkdir(parents=True, exist_ok=True)\n",
    "\n",
    "    return dst_images_path, dst_class_path, dst_instance_path"
   ]
  },
  {
   "cell_type": "code",
   "execution_count": null,
   "metadata": {},
   "outputs": [],
   "source": [
    "# skip\n",
    "\n",
    "# prazan dir i onda ga napravim\n",
    "with TemporaryDirectory() as d:\n",
    "    dst_path = Path(d)\n",
    "    recreate_dst_dir(dst_path)\n",
    "    assert dst_path.exists()\n",
    "    assert dst_path.is_dir()\n",
    "    dir_found = list(dst_path.glob(\"**/*\"))\n",
    "    assert len(dir_found) == 3\n",
    "    for dst_subpath in dir_found:\n",
    "        assert dst_subpath.is_dir()\n",
    "        assert dst_subpath.name in [\n",
    "            \"JPEGImages\",\n",
    "            \"SegmentationClass\",\n",
    "            \"SegmentationObject\",\n",
    "        ]\n",
    "\n",
    "\n",
    "# puni dir i onda ga izbrisem\n",
    "with TemporaryDirectory() as d:\n",
    "    dst_path = Path(d)\n",
    "    (dst_path / \"JPEGImages\" / \"random\").mkdir(parents=True)\n",
    "\n",
    "    recreate_dst_dir(dst_path)\n",
    "    assert dst_path.exists()\n",
    "    assert dst_path.is_dir()\n",
    "    dir_found = list(dst_path.glob(\"**/*\"))\n",
    "    assert len(dir_found) == 3, f\"{dir_found}\"\n",
    "    for dst_subpath in dir_found:\n",
    "        assert dst_subpath.is_dir()\n",
    "        assert dst_subpath.name in [\n",
    "            \"JPEGImages\",\n",
    "            \"SegmentationClass\",\n",
    "            \"SegmentationObject\",\n",
    "        ]"
   ]
  },
  {
   "cell_type": "code",
   "execution_count": null,
   "metadata": {},
   "outputs": [],
   "source": [
    "# exporti\n",
    "\n",
    "\n",
    "def save_img_lbl_inst(\n",
    "    src_img_file,\n",
    "    src_class_file,\n",
    "    src_instance_file,\n",
    "    dst_images_path,\n",
    "    dst_class_path,\n",
    "    dst_instance_path,\n",
    "    smaller_size=1000,\n",
    "):\n",
    "    \"\"\"Resizes images from the src directories and saves them to the dst directories\"\"\"\n",
    "\n",
    "    lbl = Image.open(src_class_file)\n",
    "    image_size = calculate_image_size(lbl, smaller_size)\n",
    "    lbl = resize_composite_multi(lbl, image_size)\n",
    "\n",
    "    inst = Image.open(src_instance_file)\n",
    "    inst = resize_composite_multi(inst, image_size)\n",
    "\n",
    "    img = Image.open(src_img_file)\n",
    "    img = img.resize(image_size)\n",
    "\n",
    "    dst_img_file = dst_images_path / src_img_file.name\n",
    "    dst_class_file = dst_class_path / src_class_file.name\n",
    "    dst_instance_file = dst_instance_path / src_instance_file.name\n",
    "\n",
    "    img.save(dst_img_file)\n",
    "    lbl.save(dst_class_file)\n",
    "    inst.save(dst_instance_file)"
   ]
  },
  {
   "cell_type": "code",
   "execution_count": null,
   "metadata": {},
   "outputs": [],
   "source": [
    "# export\n",
    "\n",
    "\n",
    "@call_parse\n",
    "def resize_dataset(\n",
    "    src_path: Param(\"input directory containing images and annotations\", Path),\n",
    "    dst_path: Param(\"output directory, will be deleted if not empy\", Path),\n",
    "    dst_image_size: Param(\"min height or width\", int) = 1000,\n",
    "    verbose: Param(\"\", bool) = True,\n",
    "):\n",
    "\n",
    "    \"\"\"Resizes the entire dataset (images and labels) and saves it\"\"\"\n",
    "\n",
    "    src_images, src_lbl_classes, src_lbl_instances = get_files_from_path(src_path)\n",
    "\n",
    "    for src_img_path, src_class_path, src_instance_path in zip(\n",
    "        src_images, src_lbl_classes, src_lbl_instances\n",
    "    ):\n",
    "        ensure_equal(src_img_path.stem, src_class_path.stem)\n",
    "        ensure_equal(src_img_path.stem, src_instance_path.stem)\n",
    "\n",
    "    dst_images_path, dst_class_path, dst_instance_path = recreate_dst_dir(dst_path)\n",
    "\n",
    "    n = len(src_images)\n",
    "    print(f\"Resizing images and annotation masks in: {src_path.resolve()}\")\n",
    "    for i, (src_img_file, src_class_file, src_instance_file) in enumerate(\n",
    "        zip(src_images, src_lbl_classes, src_lbl_instances)\n",
    "    ):\n",
    "        if verbose:\n",
    "            print(f\" - [{i+1}/{n}] {src_img_file.name}...\")\n",
    "\n",
    "        save_img_lbl_inst(\n",
    "            src_img_file,\n",
    "            src_class_file,\n",
    "            src_instance_file,\n",
    "            dst_images_path,\n",
    "            dst_class_path,\n",
    "            dst_instance_path,\n",
    "            dst_image_size\n",
    "        )"
   ]
  },
  {
   "cell_type": "code",
   "execution_count": null,
   "metadata": {},
   "outputs": [
    {
     "name": "stdout",
     "output_type": "stream",
     "text": [
      "Resizing images and annotation masks in: /tf/airt/data/testing/fin_body_5\n",
      " - [1/5] 0706_Dino_070618_1_2_0061.jpg...\n",
      " - [2/5] 140810_33_1_0224.jpg...\n",
      " - [3/5] 150828_98_1_0036.jpg...\n",
      " - [4/5] 170720_16_1_0069.jpg...\n",
      " - [5/5] 190809_35_1_0122.jpg...\n"
     ]
    }
   ],
   "source": [
    "# skip\n",
    "\n",
    "\n",
    "with TemporaryDirectory() as dst_path:\n",
    "    dst_path = Path(dst_path)\n",
    "\n",
    "    src_path = fin_body_path\n",
    "\n",
    "    dst_image_size = 500\n",
    "\n",
    "    resize_dataset(src_path, dst_path, dst_image_size)\n",
    "\n",
    "    assert len(glob_suffixes(dst_path, [\"jpg\", \"jpeg\"])) == 5\n",
    "    assert len(glob_suffixes(dst_path, \"png\")) == 10"
   ]
  },
  {
   "cell_type": "code",
   "execution_count": null,
   "metadata": {},
   "outputs": [],
   "source": []
  }
 ],
 "metadata": {
  "kernelspec": {
   "display_name": "Python 3",
   "language": "python",
   "name": "python3"
  }
 },
 "nbformat": 4,
 "nbformat_minor": 2
}
